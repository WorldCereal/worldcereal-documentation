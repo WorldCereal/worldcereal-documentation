{
 "cells": [
  {
   "cell_type": "raw",
   "id": "2e8f31868572db12",
   "metadata": {
    "collapsed": false
   },
   "source": [
    "---\n",
    "title: \"WorldCereal inference\"\n",
    "execute: \n",
    "  enabled: true\n",
    "---"
   ]
  },
  {
   "cell_type": "markdown",
   "id": "2d3f84025d0bf775",
   "metadata": {
    "collapsed": false
   },
   "source": [
    "## Full inference workflwo\n",
    "\n",
    "The pseudo code below outlines the general steps of the inference pipeline."
   ]
  },
  {
   "cell_type": "code",
   "execution_count": 3,
   "id": "initial_id",
   "metadata": {
    "ExecuteTime": {
     "end_time": "2024-03-01T09:13:10.153182726Z",
     "start_time": "2024-03-01T09:13:09.552883113Z"
    }
   },
   "outputs": [
    {
     "data": {
      "text/plain": "<openeo.rest.datacube.DataCube at 0x7c222958c4d0>",
      "text/html": "\n    <script>\n    if (!window.customElements || !window.customElements.get('openeo-model-builder')) {\n        var el = document.createElement('script');\n        el.src = \"https://cdn.jsdelivr.net/npm/@openeo/vue-components@2/assets/openeo.min.js\";\n        document.head.appendChild(el);\n\n        var font = document.createElement('font');\n        font.as = \"font\";\n        font.type = \"font/woff2\";\n        font.crossOrigin = true;\n        font.href = \"https://use.fontawesome.com/releases/v5.13.0/webfonts/fa-solid-900.woff2\"\n        document.head.appendChild(font);\n    }\n    </script>\n    <openeo-model-builder>\n        <script type=\"application/json\">{\"id\": \"3d304701844147949e453d80e182e521\", \"explicit-zoom\": true, \"height\": \"400px\", \"value\": {\"process_graph\": {\"loadmlmodel1\": {\"process_id\": \"load_ml_model\", \"arguments\": {\"id\": \"http://myhost.com/my_catboost_stac_metadata.json\"}}, \"loadcollection1\": {\"process_id\": \"load_collection\", \"arguments\": {\"id\": \"SENTINEL2_L2A\", \"spatial_extent\": null, \"temporal_extent\": null}}, \"aggregatetemporalperiod1\": {\"process_id\": \"aggregate_temporal_period\", \"arguments\": {\"data\": {\"from_node\": \"loadcollection1\"}, \"period\": \"month\", \"reducer\": {\"process_graph\": {\"mean1\": {\"process_id\": \"mean\", \"arguments\": {\"data\": {\"from_parameter\": \"data\"}}, \"result\": true}}}}}, \"loadcollection2\": {\"process_id\": \"load_collection\", \"arguments\": {\"id\": \"SENTINEL1_GRD\", \"spatial_extent\": null, \"temporal_extent\": null}}, \"sarbackscatter1\": {\"process_id\": \"sar_backscatter\", \"arguments\": {\"coefficient\": \"sigma0-ellipsoid\", \"contributing_area\": false, \"data\": {\"from_node\": \"loadcollection2\"}, \"elevation_model\": null, \"ellipsoid_incidence_angle\": false, \"local_incidence_angle\": false, \"mask\": false, \"noise_removal\": true}}, \"resamplespatial1\": {\"process_id\": \"resample_spatial\", \"arguments\": {\"align\": \"upper-left\", \"data\": {\"from_node\": \"sarbackscatter1\"}, \"method\": \"near\", \"projection\": null, \"resolution\": 20}}, \"aggregatetemporalperiod2\": {\"process_id\": \"aggregate_temporal_period\", \"arguments\": {\"data\": {\"from_node\": \"resamplespatial1\"}, \"period\": \"month\", \"reducer\": {\"process_graph\": {\"mean2\": {\"process_id\": \"mean\", \"arguments\": {\"data\": {\"from_parameter\": \"data\"}}, \"result\": true}}}}}, \"mergecubes1\": {\"process_id\": \"merge_cubes\", \"arguments\": {\"cube1\": {\"from_node\": \"aggregatetemporalperiod1\"}, \"cube2\": {\"from_node\": \"aggregatetemporalperiod2\"}}}, \"applydimension1\": {\"process_id\": \"apply_dimension\", \"arguments\": {\"data\": {\"from_node\": \"mergecubes1\"}, \"dimension\": \"t\", \"process\": {\"process_graph\": {\"runudf1\": {\"process_id\": \"run_udf\", \"arguments\": {\"data\": {\"from_parameter\": \"data\"}, \"runtime\": \"Python\", \"udf\": \"\"}, \"result\": true}}}, \"target_dimension\": \"bands\"}}, \"reducedimension1\": {\"process_id\": \"reduce_dimension\", \"arguments\": {\"context\": {\"from_node\": \"loadmlmodel1\"}, \"data\": {\"from_node\": \"applydimension1\"}, \"dimension\": \"bands\", \"reducer\": {\"process_graph\": {\"predictcatboost1\": {\"process_id\": \"predict_catboost\", \"arguments\": {\"data\": {\"from_parameter\": \"data\"}, \"model\": {\"from_parameter\": \"context\"}}, \"result\": true}}}}, \"result\": true}}}}</script>\n    </openeo-model-builder>\n    "
     },
     "execution_count": 3,
     "metadata": {},
     "output_type": "execute_result"
    }
   ],
   "source": [
    "import  openeo\n",
    "from    openeo.rest.mlmodel import MlModel\n",
    "from    openeo.processes import ProcessBuilder\n",
    "\n",
    "connection = openeo.connect(\"openeo.dataspace.copernicus.eu\")\n",
    "l2A = connection.load_collection(\"SENTINEL2_L2A\").aggregate_temporal_period(period=\"month\",reducer=\"mean\")  # <1>\n",
    "sentinel1 = connection.load_collection(\"SENTINEL1_GRD\")\n",
    "bs = sentinel1.sar_backscatter(coefficient=\"sigma0-ellipsoid\").resample_spatial(resolution=20).aggregate_temporal_period(period=\"month\",reducer=\"mean\")\n",
    "\n",
    "# <2>\n",
    "\n",
    "from    openeo import UDF\n",
    "feature_udf=UDF(code=\"\",runtime=\"Python\") #load UDF to compute presto features based on monthly timeseries\n",
    "features_cube = l2A.merge_cubes(bs).apply_dimension(dimension='t',process=feature_udf,target_dimension='bands')\n",
    "\n",
    "\n",
    "model = MlModel.load_ml_model(connection=connection, id=\"http://myhost.com/my_catboost_stac_metadata.json\")\n",
    "\n",
    "catboost_classifier = lambda data, context: ProcessBuilder.process(\"predict_catboost\",data=data, model=context)\n",
    "worldcereal_product = features_cube.reduce_dimension(dimension=\"bands\", reducer=catboost_classifier, context=model)\n",
    "\n",
    "worldcereal_product"
   ]
  },
  {
   "cell_type": "markdown",
   "source": [
    "1. instead of aggregate_temporal, we'll do more advanced compositing, such as max-NDVI\n",
    "2. we'll need to add agera5 and dem bands"
   ],
   "metadata": {
    "collapsed": false
   },
   "id": "f05fbb27dde2c3a"
  },
  {
   "cell_type": "markdown",
   "source": [
    "## Exporting results to workspace\n",
    "\n",
    "When a product is ready, we want to store it in object storage and adjust stac metadata.\n",
    "\n"
   ],
   "metadata": {
    "collapsed": false
   },
   "id": "b9833fd7be4f2898"
  },
  {
   "cell_type": "code",
   "outputs": [
    {
     "data": {
      "text/plain": "<openeo.rest.datacube.DataCube at 0x7c2228b762d0>",
      "text/html": "\n    <script>\n    if (!window.customElements || !window.customElements.get('openeo-model-builder')) {\n        var el = document.createElement('script');\n        el.src = \"https://cdn.jsdelivr.net/npm/@openeo/vue-components@2/assets/openeo.min.js\";\n        document.head.appendChild(el);\n\n        var font = document.createElement('font');\n        font.as = \"font\";\n        font.type = \"font/woff2\";\n        font.crossOrigin = true;\n        font.href = \"https://use.fontawesome.com/releases/v5.13.0/webfonts/fa-solid-900.woff2\"\n        document.head.appendChild(font);\n    }\n    </script>\n    <openeo-model-builder>\n        <script type=\"application/json\">{\"id\": \"706175a608ad452dbb774ff036b5e21a\", \"explicit-zoom\": true, \"height\": \"400px\", \"value\": {\"process_graph\": {\"loadmlmodel1\": {\"process_id\": \"load_ml_model\", \"arguments\": {\"id\": \"http://myhost.com/my_catboost_stac_metadata.json\"}}, \"loadcollection1\": {\"process_id\": \"load_collection\", \"arguments\": {\"id\": \"SENTINEL2_L2A\", \"spatial_extent\": null, \"temporal_extent\": null}}, \"aggregatetemporalperiod1\": {\"process_id\": \"aggregate_temporal_period\", \"arguments\": {\"data\": {\"from_node\": \"loadcollection1\"}, \"period\": \"month\", \"reducer\": {\"process_graph\": {\"mean1\": {\"process_id\": \"mean\", \"arguments\": {\"data\": {\"from_parameter\": \"data\"}}, \"result\": true}}}}}, \"loadcollection2\": {\"process_id\": \"load_collection\", \"arguments\": {\"id\": \"SENTINEL1_GRD\", \"spatial_extent\": null, \"temporal_extent\": null}}, \"sarbackscatter1\": {\"process_id\": \"sar_backscatter\", \"arguments\": {\"coefficient\": \"sigma0-ellipsoid\", \"contributing_area\": false, \"data\": {\"from_node\": \"loadcollection2\"}, \"elevation_model\": null, \"ellipsoid_incidence_angle\": false, \"local_incidence_angle\": false, \"mask\": false, \"noise_removal\": true}}, \"resamplespatial1\": {\"process_id\": \"resample_spatial\", \"arguments\": {\"align\": \"upper-left\", \"data\": {\"from_node\": \"sarbackscatter1\"}, \"method\": \"near\", \"projection\": null, \"resolution\": 20}}, \"aggregatetemporalperiod2\": {\"process_id\": \"aggregate_temporal_period\", \"arguments\": {\"data\": {\"from_node\": \"resamplespatial1\"}, \"period\": \"month\", \"reducer\": {\"process_graph\": {\"mean2\": {\"process_id\": \"mean\", \"arguments\": {\"data\": {\"from_parameter\": \"data\"}}, \"result\": true}}}}}, \"mergecubes1\": {\"process_id\": \"merge_cubes\", \"arguments\": {\"cube1\": {\"from_node\": \"aggregatetemporalperiod1\"}, \"cube2\": {\"from_node\": \"aggregatetemporalperiod2\"}}}, \"applydimension1\": {\"process_id\": \"apply_dimension\", \"arguments\": {\"data\": {\"from_node\": \"mergecubes1\"}, \"dimension\": \"t\", \"process\": {\"process_graph\": {\"runudf1\": {\"process_id\": \"run_udf\", \"arguments\": {\"data\": {\"from_parameter\": \"data\"}, \"runtime\": \"Python\", \"udf\": \"\"}, \"result\": true}}}, \"target_dimension\": \"bands\"}}, \"reducedimension1\": {\"process_id\": \"reduce_dimension\", \"arguments\": {\"context\": {\"from_node\": \"loadmlmodel1\"}, \"data\": {\"from_node\": \"applydimension1\"}, \"dimension\": \"bands\", \"reducer\": {\"process_graph\": {\"predictcatboost1\": {\"process_id\": \"predict_catboost\", \"arguments\": {\"data\": {\"from_parameter\": \"data\"}, \"model\": {\"from_parameter\": \"context\"}}, \"result\": true}}}}}, \"saveresult1\": {\"process_id\": \"save_result\", \"arguments\": {\"data\": {\"from_node\": \"reducedimension1\"}, \"format\": \"GTiff\", \"options\": {}}}, \"stacupdate1\": {\"process_id\": \"stac_update\", \"arguments\": {\"data\": {\"from_node\": \"saveresult1\"}}}, \"exportworkspace1\": {\"process_id\": \"export_workspace\", \"arguments\": {\"data\": {\"from_node\": \"stacupdate1\"}, \"merge\": \"pointer_to_worldcereal_collection\", \"workspace\": \"my_workspace\"}, \"result\": true}}}}</script>\n    </openeo-model-builder>\n    "
     },
     "execution_count": 16,
     "metadata": {},
     "output_type": "execute_result"
    }
   ],
   "source": [
    "stac_metadata = worldcereal_product.save_result(format=\"GTiff\")\n",
    "stac_metadata = connection.datacube_from_process(\"stac_update\",data = stac_metadata) #todo: add custom metadata\n",
    "\n",
    "connection.datacube_from_process(\"export_workspace\",data = stac_metadata, workspace = \"my_workspace\", merge=\"pointer_to_worldcereal_collection\")"
   ],
   "metadata": {
    "collapsed": false,
    "ExecuteTime": {
     "end_time": "2024-03-01T09:19:57.415053025Z",
     "start_time": "2024-03-01T09:19:57.369356837Z"
    }
   },
   "id": "3a6a2a7310947a0d",
   "execution_count": 16
  }
 ],
 "metadata": {
  "kernelspec": {
   "display_name": "Python 3",
   "language": "python",
   "name": "python3"
  },
  "language_info": {
   "codemirror_mode": {
    "name": "ipython",
    "version": 3
   },
   "file_extension": ".py",
   "mimetype": "text/x-python",
   "name": "python",
   "nbconvert_exporter": "python",
   "pygments_lexer": "ipython3",
   "version": "3.11.7"
  }
 },
 "nbformat": 4,
 "nbformat_minor": 5
}
