{
 "cells": [
  {
   "cell_type": "raw",
   "source": [
    "---\n",
    "execute: \n",
    "  enabled: false\n",
    "---"
   ],
   "metadata": {
    "collapsed": false
   },
   "id": "89d097cefd7dbe58"
  },
  {
   "cell_type": "markdown",
   "source": [
    "# Training custom models\n",
    "\n",
    "The user should be able to train models based on custom reference data. The preprocessing and feature computation approach remain the same as for standard model,\n",
    "but the model is simply retrained.\n",
    "\n",
    "Model training is also performed using openEO workflows. In principle, the full workflow could work from scratch, but in practice there's a need to store and cache intermediate results.\n",
    "This reduces the cost of model training when multiple iterations are needed.\n",
    "\n",
    "The subsequent sections describe the various steps involved in model training.\n",
    "\n",
    "## Preprocessing features\n",
    "\n",
    "Preprocessing aim is to generate a 2D data structure (a table) that can go into catboost training.\n",
    "\n",
    "### Sampling point locations\n",
    "\n",
    "The WorldCereal extractions cache consists of 64x64 pixel timeseries stored as netCDF files.\n",
    "As catboost is a 1D method, we need to sample those patches at point locations.\n",
    "\n",
    "In the approach presented in the code block below, the original algorithm is translated into an openEO process graph.\n",
    "It is however also possible to come up with other approaches, for instance that sample the patches at point locations, and then perform a stratification step on the larger dataset.\n",
    "\n"
   ],
   "metadata": {
    "collapsed": false
   },
   "id": "dedbbcc738dababe"
  },
  {
   "cell_type": "code",
   "outputs": [
    {
     "data": {
      "text/plain": "<openeo.rest.datacube.DataCube at 0x7bf4655d4250>",
      "text/html": "\n    <script>\n    if (!window.customElements || !window.customElements.get('openeo-model-builder')) {\n        var el = document.createElement('script');\n        el.src = \"https://cdn.jsdelivr.net/npm/@openeo/vue-components@2/assets/openeo.min.js\";\n        document.head.appendChild(el);\n\n        var font = document.createElement('font');\n        font.as = \"font\";\n        font.type = \"font/woff2\";\n        font.crossOrigin = true;\n        font.href = \"https://use.fontawesome.com/releases/v5.13.0/webfonts/fa-solid-900.woff2\"\n        document.head.appendChild(font);\n    }\n    </script>\n    <openeo-model-builder>\n        <script type=\"application/json\">{\"id\": \"0559c0791cc94b1398543d148e2f1e85\", \"explicit-zoom\": true, \"height\": \"400px\", \"value\": {\"process_graph\": {\"loadstac1\": {\"process_id\": \"load_stac\", \"arguments\": {\"url\": \"https://stac_catalog.com/ground_truth\"}}, \"applypolygon1\": {\"process_id\": \"apply_polygon\", \"arguments\": {\"data\": {\"from_node\": \"loadstac1\"}, \"polygons\": {\"type\": \"FeatureCollection\"}, \"process\": {\"process_graph\": {\"runudf1\": {\"process_id\": \"run_udf\", \"arguments\": {\"data\": {\"from_parameter\": \"data\"}, \"runtime\": \"Python\", \"udf\": \"\"}, \"result\": true}}}}, \"result\": true}}}}</script>\n    </openeo-model-builder>\n    "
     },
     "execution_count": 2,
     "metadata": {},
     "output_type": "execute_result"
    }
   ],
   "source": [
    "import  openeo\n",
    "connection = openeo.connect(\"openeo.dataspace.copernicus.eu\")\n",
    "ground_truth = connection.load_stac(\"https://stac_catalog.com/ground_truth\")\n",
    "\n",
    "from   openeo import UDF\n",
    "sampling_udf=UDF(code=\"\",runtime=\"Python\") # <1>\n",
    "\n",
    "polygons = {\"type\":\"FeatureCollection\"} #these would be the bounding boxes of the netCDF files, or in fact STAC item bboxes\n",
    "\n",
    "ground_truth.apply_polygon(polygons,process=sampling_udf)"
   ],
   "metadata": {
    "collapsed": false,
    "ExecuteTime": {
     "end_time": "2024-03-13T08:22:41.173123234Z",
     "start_time": "2024-03-13T08:22:40.700315638Z"
    }
   },
   "id": "29173c18f90b745b",
   "execution_count": 2
  },
  {
   "cell_type": "markdown",
   "source": [
    "1. This UDF should return points as geojson\n",
    "\n",
    "\n",
    "### Extracting point timeseries"
   ],
   "metadata": {
    "collapsed": false
   },
   "id": "4451861d026dac55"
  },
  {
   "cell_type": "code",
   "outputs": [
    {
     "data": {
      "text/plain": "<openeo.rest.vectorcube.VectorCube at 0x7bf4655e59d0>",
      "text/html": "\n    <script>\n    if (!window.customElements || !window.customElements.get('openeo-model-builder')) {\n        var el = document.createElement('script');\n        el.src = \"https://cdn.jsdelivr.net/npm/@openeo/vue-components@2/assets/openeo.min.js\";\n        document.head.appendChild(el);\n\n        var font = document.createElement('font');\n        font.as = \"font\";\n        font.type = \"font/woff2\";\n        font.crossOrigin = true;\n        font.href = \"https://use.fontawesome.com/releases/v5.13.0/webfonts/fa-solid-900.woff2\"\n        document.head.appendChild(font);\n    }\n    </script>\n    <openeo-model-builder>\n        <script type=\"application/json\">{\"id\": \"0b983af8590d4ef4be44c31ffd9b33fd\", \"explicit-zoom\": true, \"height\": \"400px\", \"value\": {\"process_graph\": {\"loadstac1\": {\"process_id\": \"load_stac\", \"arguments\": {\"url\": \"https://stac_catalog.com/SENTINEL2_L2A\"}}, \"aggregatetemporalperiod1\": {\"process_id\": \"aggregate_temporal_period\", \"arguments\": {\"data\": {\"from_node\": \"loadstac1\"}, \"period\": \"month\", \"reducer\": {\"process_graph\": {\"mean1\": {\"process_id\": \"mean\", \"arguments\": {\"data\": {\"from_parameter\": \"data\"}}, \"result\": true}}}}}, \"loadstac2\": {\"process_id\": \"load_stac\", \"arguments\": {\"url\": \"https://stac_catalog.com/SENTINEL1_BS\"}}, \"aggregatetemporalperiod2\": {\"process_id\": \"aggregate_temporal_period\", \"arguments\": {\"data\": {\"from_node\": \"loadstac2\"}, \"period\": \"month\", \"reducer\": {\"process_graph\": {\"mean2\": {\"process_id\": \"mean\", \"arguments\": {\"data\": {\"from_parameter\": \"data\"}}, \"result\": true}}}}}, \"mergecubes1\": {\"process_id\": \"merge_cubes\", \"arguments\": {\"cube1\": {\"from_node\": \"aggregatetemporalperiod1\"}, \"cube2\": {\"from_node\": \"aggregatetemporalperiod2\"}}}, \"aggregatespatial1\": {\"process_id\": \"aggregate_spatial\", \"arguments\": {\"data\": {\"from_node\": \"mergecubes1\"}, \"geometries\": {\"type\": \"Point\"}, \"reducer\": {\"process_graph\": {\"mean3\": {\"process_id\": \"mean\", \"arguments\": {\"data\": {\"from_parameter\": \"data\"}}, \"result\": true}}}}}, \"saveresult1\": {\"process_id\": \"save_result\", \"arguments\": {\"data\": {\"from_node\": \"aggregatespatial1\"}, \"format\": \"Parquet\", \"options\": {}}, \"result\": true}}}}</script>\n    </openeo-model-builder>\n    "
     },
     "execution_count": 3,
     "metadata": {},
     "output_type": "execute_result"
    }
   ],
   "source": [
    "import  openeo\n",
    "from    openeo.rest.mlmodel import MlModel\n",
    "from    openeo.processes import ProcessBuilder\n",
    "\n",
    "connection = openeo.connect(\"openeo.dataspace.copernicus.eu\")\n",
    "l2A = connection.load_stac(\"https://stac_catalog.com/SENTINEL2_L2A\").aggregate_temporal_period(period=\"month\",reducer=\"mean\")  # <1>\n",
    "sentinel1 = connection.load_stac(\"https://stac_catalog.com/SENTINEL1_BS\")\n",
    "bs = sentinel1.aggregate_temporal_period(period=\"month\",reducer=\"mean\")\n",
    "\n",
    "timesteps_cube = l2A.merge_cubes(bs).aggregate_spatial(geometries={\"type\":\"Point\"},reducer=\"mean\").save_result(format=\"Parquet\")\n",
    "# <2>\n",
    "\n",
    "timesteps_cube\n"
   ],
   "metadata": {
    "collapsed": false,
    "ExecuteTime": {
     "end_time": "2024-03-13T08:22:45.963203939Z",
     "start_time": "2024-03-13T08:22:45.587642887Z"
    }
   },
   "id": "802c1041c125106b",
   "execution_count": 3
  },
  {
   "cell_type": "markdown",
   "source": [
    "1. instead of aggregate_temporal, we'll do more advanced compositing, such as max-NDVI\n",
    "2. we'll need to add agera5 and dem bands"
   ],
   "metadata": {
    "collapsed": false
   },
   "id": "45b2f32f493c25a8"
  },
  {
   "cell_type": "markdown",
   "source": [
    "### Training workflow\n",
    "\n",
    "The training workflow combines feature computation starting from monthly timesteps with catboost training.\n",
    "\n",
    "The output is a model together with STAC metadata. The link to the STAC metadata of the model can be used by an inference workflow."
   ],
   "metadata": {
    "collapsed": false
   },
   "id": "e85b21329222f1a8"
  },
  {
   "cell_type": "code",
   "outputs": [
    {
     "data": {
      "text/plain": "<openeo.rest.vectorcube.VectorCube at 0x7bf4655d7610>",
      "text/html": "\n    <script>\n    if (!window.customElements || !window.customElements.get('openeo-model-builder')) {\n        var el = document.createElement('script');\n        el.src = \"https://cdn.jsdelivr.net/npm/@openeo/vue-components@2/assets/openeo.min.js\";\n        document.head.appendChild(el);\n\n        var font = document.createElement('font');\n        font.as = \"font\";\n        font.type = \"font/woff2\";\n        font.crossOrigin = true;\n        font.href = \"https://use.fontawesome.com/releases/v5.13.0/webfonts/fa-solid-900.woff2\"\n        document.head.appendChild(font);\n    }\n    </script>\n    <openeo-model-builder>\n        <script type=\"application/json\">{\"id\": \"dca2cf3d23c94c62aaa7d8b3f88013d6\", \"explicit-zoom\": true, \"height\": \"400px\", \"value\": {\"process_graph\": {\"loadurl1\": {\"process_id\": \"load_url\", \"arguments\": {\"format\": \"Parquet\", \"url\": \"timesteps.parquet\"}}, \"applydimension1\": {\"process_id\": \"apply_dimension\", \"arguments\": {\"data\": {\"from_node\": \"loadurl1\"}, \"dimension\": \"t\", \"process\": {\"process_graph\": {\"runudf1\": {\"process_id\": \"run_udf\", \"arguments\": {\"data\": {\"from_parameter\": \"data\"}, \"runtime\": \"Python\", \"udf\": \"\"}, \"result\": true}}}, \"target_dimension\": \"bands\"}}, \"fitcatboostmodel1\": {\"process_id\": \"fit_catboost_model\", \"arguments\": {\"data\": {\"from_node\": \"applydimension1\"}}, \"result\": true}}}}</script>\n    </openeo-model-builder>\n    "
     },
     "execution_count": 5,
     "metadata": {},
     "output_type": "execute_result"
    }
   ],
   "source": [
    "from    openeo import UDF\n",
    "feature_udf=UDF(code=\"\",runtime=\"Python\") #load UDF to compute presto features based on monthly timeseries\n",
    "features_cube = connection.load_url(\"timesteps.parquet\",format=\"Parquet\").apply_dimension(dimension='t',process=feature_udf,target_dimension='bands')\n",
    "ml_model = features_cube.process(\"fit_catboost_model\", data=features_cube)\n",
    "ml_model\n"
   ],
   "metadata": {
    "collapsed": false,
    "ExecuteTime": {
     "end_time": "2024-03-13T08:23:25.027508533Z",
     "start_time": "2024-03-13T08:23:24.982108186Z"
    }
   },
   "id": "ed847b34bc4cb3fd",
   "execution_count": 5
  },
  {
   "cell_type": "markdown",
   "source": [
    "## Extracting private samples\n",
    "\n",
    "For this use case, we assume that the user wants to use a private reference dataset. It should be available at a 'secret' url, which can be a signed url provided by the reference data module.\n",
    "Multiple input formats are supported by openEO next to GeoParquet, but the input data needs to be harmonized.\n",
    "\n",
    "We immediately extract a table at point locations, assuming that the cache of intermediate patches has less value for private data.\n",
    "\n",
    "The WorldCereal preprocessing chain is assumed to be available as an openEO User Defined Process (UDP) called `worldcereal_preprocessing_udp`.\n",
    "\n"
   ],
   "metadata": {
    "collapsed": false
   },
   "id": "18d63000cbf10b12"
  },
  {
   "cell_type": "code",
   "outputs": [
    {
     "data": {
      "text/plain": "<openeo.rest.vectorcube.VectorCube at 0x7bf46538d550>",
      "text/html": "\n    <script>\n    if (!window.customElements || !window.customElements.get('openeo-model-builder')) {\n        var el = document.createElement('script');\n        el.src = \"https://cdn.jsdelivr.net/npm/@openeo/vue-components@2/assets/openeo.min.js\";\n        document.head.appendChild(el);\n\n        var font = document.createElement('font');\n        font.as = \"font\";\n        font.type = \"font/woff2\";\n        font.crossOrigin = true;\n        font.href = \"https://use.fontawesome.com/releases/v5.13.0/webfonts/fa-solid-900.woff2\"\n        document.head.appendChild(font);\n    }\n    </script>\n    <openeo-model-builder>\n        <script type=\"application/json\">{\"id\": \"468f54ca31c049ccac710f539fdd807d\", \"explicit-zoom\": true, \"height\": \"400px\", \"value\": {\"process_graph\": {\"worldcerealpreprocessingudp1\": {\"process_id\": \"worldcereal_preprocessing_udp\", \"arguments\": {}}, \"loadurl1\": {\"process_id\": \"load_url\", \"arguments\": {\"format\": \"Parquet\", \"url\": \"https://rdm.worldcereal.org/private_assets/absqdfjq_signed_url/private_data.parquet\"}}, \"aggregatespatial1\": {\"process_id\": \"aggregate_spatial\", \"arguments\": {\"data\": {\"from_node\": \"worldcerealpreprocessingudp1\"}, \"geometries\": {\"from_node\": \"loadurl1\"}, \"reducer\": {\"process_graph\": {\"first1\": {\"process_id\": \"first\", \"arguments\": {\"data\": {\"from_parameter\": \"data\"}}, \"result\": true}}}}}, \"saveresult1\": {\"process_id\": \"save_result\", \"arguments\": {\"data\": {\"from_node\": \"aggregatespatial1\"}, \"format\": \"Parquet\", \"options\": {}}, \"result\": true}}}}</script>\n    </openeo-model-builder>\n    "
     },
     "execution_count": 8,
     "metadata": {},
     "output_type": "execute_result"
    }
   ],
   "source": [
    "#| execute: false\n",
    "sample_locations = connection.load_url(\"https://rdm.worldcereal.org/private_assets/absqdfjq_signed_url/private_data.parquet\", format=\"Parquet\")\n",
    "\n",
    "connection.datacube_from_process(\"worldcereal_preprocessing_udp\").aggregate_spatial(sample_locations,reducer=\"first\").save_result(format=\"Parquet\")\n",
    "\n"
   ],
   "metadata": {
    "collapsed": false,
    "ExecuteTime": {
     "end_time": "2024-03-13T08:29:17.502339434Z",
     "start_time": "2024-03-13T08:29:17.456900712Z"
    }
   },
   "id": "385ea9c09e30d61b",
   "execution_count": 8
  },
  {
   "cell_type": "markdown",
   "source": [
    "## Training by combining private + public samples\n",
    "\n",
    "In this usecase, the user wants to train a new model, by combining data.\n",
    "This should be possible by simply merging vector cubes that go into the training process.\n",
    "\n",
    "TODO"
   ],
   "metadata": {
    "collapsed": false
   },
   "id": "ba3d2ec78c68d1b9"
  }
 ],
 "metadata": {
  "kernelspec": {
   "display_name": "Python 3",
   "language": "python",
   "name": "python3"
  },
  "language_info": {
   "codemirror_mode": {
    "name": "ipython",
    "version": 2
   },
   "file_extension": ".py",
   "mimetype": "text/x-python",
   "name": "python",
   "nbconvert_exporter": "python",
   "pygments_lexer": "ipython2",
   "version": "2.7.6"
  }
 },
 "nbformat": 4,
 "nbformat_minor": 5
}
