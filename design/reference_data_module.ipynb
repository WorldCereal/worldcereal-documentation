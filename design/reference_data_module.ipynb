{
 "cells": [
  {
   "cell_type": "raw",
   "source": [
    "---\n",
    "execute: \n",
    "  enabled: true\n",
    "  echo: false\n",
    "---"
   ],
   "metadata": {
    "collapsed": false
   },
   "id": "bee0939f875d7d85"
  },
  {
   "cell_type": "markdown",
   "source": [
    "### H3 indexing\n",
    "\n",
    "While the RDM is built on top of a PostGIS database, we more and more start to use H3 for fast geospatial lookup.\n",
    "H3 is a discrete global grid system, with some nice properties for cases like ours. \n",
    "\n",
    "One example use case is creating a heatmap showing distribution of samples for specific crop types over the world.\n",
    "\n",
    "H3 indexes can also be computed on the fly from the geometry, but a lot of operations can be made faster if they are performed on 64bit integers rather than geometries.\n",
    "\n",
    "#### H3 examples\n",
    "\n",
    "This can be achieved in different technology stacks. For instance, in (postgres)[https://github.com/zachasme/h3-pg]:\n",
    "\n",
    "`SELECT h3_lat_lng_to_cell(POINT('37.3615593,-122.0553238'), 5)`\n",
    "\n",
    "or in (Python)[https://uber.github.io/h3-py/intro.html#usage]:\n",
    "\n",
    "`h3.latlng_to_cell(lat, lng, resolution)`\n",
    "\n",
    "or other options: https://h3geo.org/docs/community/bindings\n",
    "\n",
    "\n",
    "### Sample stratification in the RDM\n",
    "\n",
    "The total number of samples in the RDM is very large, but also unevenly spread geographically and in terms of crop type distribution.\n",
    "Hence the stratification strategy is an important factor that affects the quality of the model, but also the efficiency with which we can train models.\n",
    "\n",
    "Therefore, the RDM needs to be able to run a certain stratification approach to select a subset of the samples.\n",
    "It should be possible to also consider new data in the stratification.\n",
    "\n",
    "We propose the following database design:\n",
    "\n",
    "- a 1 to * relationship between samples and stratification selection, as there can be multiple algorithms, or stratification runs.\n",
    "- A 'stratification_flag' column with the id of the stratification run that selected the sample.\n",
    "- A 'stratification_timestamp' column identifies when a sample was selected. The purpose is to identify newly added samples.\n",
    "\n",
    "For the stratification algorithm itself, we would like to use a discrete global grid, and more specifically H3. In certain cases, this grid can also replace geospatial queries.\n",
    "Hence for each sample, we would like to add the H3 index at level 5.\n",
    "\n",
    "\n",
    "#### Table example\n",
    "\n",
    "An example table is shown below."
   ],
   "metadata": {
    "collapsed": false
   },
   "id": "3fe3b3c06f896dc8"
  },
  {
   "cell_type": "code",
   "outputs": [
    {
     "data": {
      "text/plain": "   sample_id   stratification_flag stratification_timestamp      h3_l3_index  \\\n0  my_sample                     1     2024-03-01T02:00:00Z  845ad1bffffffff   \n\n   extraction_id  \n0         the_id  ",
      "text/html": "<div>\n<style scoped>\n    .dataframe tbody tr th:only-of-type {\n        vertical-align: middle;\n    }\n\n    .dataframe tbody tr th {\n        vertical-align: top;\n    }\n\n    .dataframe thead th {\n        text-align: right;\n    }\n</style>\n<table border=\"1\" class=\"dataframe\">\n  <thead>\n    <tr style=\"text-align: right;\">\n      <th></th>\n      <th>sample_id</th>\n      <th>stratification_flag</th>\n      <th>stratification_timestamp</th>\n      <th>h3_l3_index</th>\n      <th>extraction_id</th>\n    </tr>\n  </thead>\n  <tbody>\n    <tr>\n      <th>0</th>\n      <td>my_sample</td>\n      <td>1</td>\n      <td>2024-03-01T02:00:00Z</td>\n      <td>845ad1bffffffff</td>\n      <td>the_id</td>\n    </tr>\n  </tbody>\n</table>\n</div>"
     },
     "execution_count": 1,
     "metadata": {},
     "output_type": "execute_result"
    }
   ],
   "source": [
    "\n",
    "import pandas as pd\n",
    "pd.read_csv(\"sampling_table.csv\")"
   ],
   "metadata": {
    "collapsed": false,
    "ExecuteTime": {
     "end_time": "2024-03-03T17:59:06.562588116Z",
     "start_time": "2024-03-03T17:59:06.272029322Z"
    }
   },
   "id": "d5984c2ae5906f28",
   "execution_count": 1
  },
  {
   "cell_type": "markdown",
   "source": [
    "#### Required API calls\n",
    "based on this table, the following queries can be defined. These are cases that we would need in practice. \n",
    "\n",
    "- Retrieve point locations to extract based on: ref_id, h3 index, stratification_flag, timestamp[optional]\n",
    "- Retrieve list of unique stratification run timestamps (as enum in the schema returned by queryables?)\n",
    "- Retrieve counts per h3 cell and croptype\n",
    "- Update call to set extraction status in bulk\n",
    "\n",
    "These calls can be done through an OGC Features request, or via GeoParquet. Further investigation below is performed to figure out the best approach.\n",
    "\n",
    "##### Aggregated statistics\n",
    "\n",
    "For the generation of statistics such as counts per croptype in H3 gridcells, the OGC Features API does not seem to include support.\n",
    "Hence we would need a background task that updates these statistics either on a fixed time schedule, or triggered by new ingestions in the RDM.\n",
    "\n",
    "If this background task could immediately generate a geoparquet file, then it may also be possible to avoid requiring a more advanced setup (based on a database+webservice).\n"
   ],
   "metadata": {
    "collapsed": false
   },
   "id": "4fd93f7c0bea5de6"
  },
  {
   "cell_type": "markdown",
   "source": [
    "## Reading test from Parquet"
   ],
   "metadata": {
    "collapsed": false
   },
   "id": "56fd07d507db964c"
  },
  {
   "cell_type": "code",
   "outputs": [
    {
     "name": "stdout",
     "output_type": "stream",
     "text": [
      "CPU times: user 598 ms, sys: 235 ms, total: 833 ms\n",
      "Wall time: 7.77 s\n"
     ]
    },
    {
     "data": {
      "text/plain": "                                                geometry    CT\n0      MULTIPOLYGON (((-8.54796 40.56554, -8.54942 40...  1200\n1      MULTIPOLYGON (((-8.52352 40.55686, -8.52352 40...  1700\n2      MULTIPOLYGON (((-8.52456 40.55538, -8.52454 40...  3300\n3      MULTIPOLYGON (((-8.52835 40.56835, -8.52837 40...  2000\n4      MULTIPOLYGON (((-8.52781 40.57128, -8.52814 40...     0\n...                                                  ...   ...\n99995  MULTIPOLYGON (((-6.46866 41.43669, -6.46832 41...     0\n99996  MULTIPOLYGON (((-6.46797 41.43497, -6.46778 41...     0\n99997  MULTIPOLYGON (((-7.45134 41.73074, -7.45134 41...  1200\n99998  MULTIPOLYGON (((-6.47482 41.44217, -6.47480 41...     0\n99999  MULTIPOLYGON (((-6.47503 41.44182, -6.47504 41...  9520\n\n[100000 rows x 2 columns]",
      "text/html": "<div>\n<style scoped>\n    .dataframe tbody tr th:only-of-type {\n        vertical-align: middle;\n    }\n\n    .dataframe tbody tr th {\n        vertical-align: top;\n    }\n\n    .dataframe thead th {\n        text-align: right;\n    }\n</style>\n<table border=\"1\" class=\"dataframe\">\n  <thead>\n    <tr style=\"text-align: right;\">\n      <th></th>\n      <th>geometry</th>\n      <th>CT</th>\n    </tr>\n  </thead>\n  <tbody>\n    <tr>\n      <th>0</th>\n      <td>MULTIPOLYGON (((-8.54796 40.56554, -8.54942 40...</td>\n      <td>1200</td>\n    </tr>\n    <tr>\n      <th>1</th>\n      <td>MULTIPOLYGON (((-8.52352 40.55686, -8.52352 40...</td>\n      <td>1700</td>\n    </tr>\n    <tr>\n      <th>2</th>\n      <td>MULTIPOLYGON (((-8.52456 40.55538, -8.52454 40...</td>\n      <td>3300</td>\n    </tr>\n    <tr>\n      <th>3</th>\n      <td>MULTIPOLYGON (((-8.52835 40.56835, -8.52837 40...</td>\n      <td>2000</td>\n    </tr>\n    <tr>\n      <th>4</th>\n      <td>MULTIPOLYGON (((-8.52781 40.57128, -8.52814 40...</td>\n      <td>0</td>\n    </tr>\n    <tr>\n      <th>...</th>\n      <td>...</td>\n      <td>...</td>\n    </tr>\n    <tr>\n      <th>99995</th>\n      <td>MULTIPOLYGON (((-6.46866 41.43669, -6.46832 41...</td>\n      <td>0</td>\n    </tr>\n    <tr>\n      <th>99996</th>\n      <td>MULTIPOLYGON (((-6.46797 41.43497, -6.46778 41...</td>\n      <td>0</td>\n    </tr>\n    <tr>\n      <th>99997</th>\n      <td>MULTIPOLYGON (((-7.45134 41.73074, -7.45134 41...</td>\n      <td>1200</td>\n    </tr>\n    <tr>\n      <th>99998</th>\n      <td>MULTIPOLYGON (((-6.47482 41.44217, -6.47480 41...</td>\n      <td>0</td>\n    </tr>\n    <tr>\n      <th>99999</th>\n      <td>MULTIPOLYGON (((-6.47503 41.44182, -6.47504 41...</td>\n      <td>9520</td>\n    </tr>\n  </tbody>\n</table>\n<p>100000 rows × 2 columns</p>\n</div>"
     },
     "execution_count": 13,
     "metadata": {},
     "output_type": "execute_result"
    }
   ],
   "source": [
    "%%time\n",
    "import geopandas as gpd\n",
    "import fsspec\n",
    "pq_path = \"https://ewocstorage.blob.core.windows.net/collections/2021_PT_EUROCROP_POLY_110.parquet\"\n",
    "with fsspec.open(pq_path) as file:\n",
    "    df = gpd.read_parquet(file,columns=[\"geometry\",\"CT\"])\n",
    "df"
   ],
   "metadata": {
    "collapsed": false,
    "ExecuteTime": {
     "end_time": "2024-03-03T13:17:21.859070282Z",
     "start_time": "2024-03-03T13:17:14.088946794Z"
    }
   },
   "id": "bbeb442fcd6a1d38",
   "execution_count": 13
  },
  {
   "cell_type": "code",
   "outputs": [
    {
     "data": {
      "text/plain": "      geometry\nCT            \n0        37673\n1100       191\n1200      4475\n1300       271\n1500        69\n...        ...\n9300        10\n9320         3\n9500         8\n9520       971\n9920         4\n\n[61 rows x 1 columns]",
      "text/html": "<div>\n<style scoped>\n    .dataframe tbody tr th:only-of-type {\n        vertical-align: middle;\n    }\n\n    .dataframe tbody tr th {\n        vertical-align: top;\n    }\n\n    .dataframe thead th {\n        text-align: right;\n    }\n</style>\n<table border=\"1\" class=\"dataframe\">\n  <thead>\n    <tr style=\"text-align: right;\">\n      <th></th>\n      <th>geometry</th>\n    </tr>\n    <tr>\n      <th>CT</th>\n      <th></th>\n    </tr>\n  </thead>\n  <tbody>\n    <tr>\n      <th>0</th>\n      <td>37673</td>\n    </tr>\n    <tr>\n      <th>1100</th>\n      <td>191</td>\n    </tr>\n    <tr>\n      <th>1200</th>\n      <td>4475</td>\n    </tr>\n    <tr>\n      <th>1300</th>\n      <td>271</td>\n    </tr>\n    <tr>\n      <th>1500</th>\n      <td>69</td>\n    </tr>\n    <tr>\n      <th>...</th>\n      <td>...</td>\n    </tr>\n    <tr>\n      <th>9300</th>\n      <td>10</td>\n    </tr>\n    <tr>\n      <th>9320</th>\n      <td>3</td>\n    </tr>\n    <tr>\n      <th>9500</th>\n      <td>8</td>\n    </tr>\n    <tr>\n      <th>9520</th>\n      <td>971</td>\n    </tr>\n    <tr>\n      <th>9920</th>\n      <td>4</td>\n    </tr>\n  </tbody>\n</table>\n<p>61 rows × 1 columns</p>\n</div>"
     },
     "execution_count": 17,
     "metadata": {},
     "output_type": "execute_result"
    }
   ],
   "source": [
    "df.groupby(['CT']).count()"
   ],
   "metadata": {
    "collapsed": false,
    "ExecuteTime": {
     "end_time": "2024-03-03T13:19:00.603050531Z",
     "start_time": "2024-03-03T13:19:00.561887845Z"
    }
   },
   "id": "480b5d4d37988431",
   "execution_count": 17
  },
  {
   "cell_type": "code",
   "outputs": [
    {
     "name": "stdout",
     "output_type": "stream",
     "text": [
      "CPU times: user 249 ms, sys: 58.7 ms, total: 307 ms\n",
      "Wall time: 290 ms\n"
     ]
    },
    {
     "data": {
      "text/plain": "[(100000,)]"
     },
     "execution_count": 2,
     "metadata": {},
     "output_type": "execute_result"
    }
   ],
   "source": [
    "%%time\n",
    "import duckdb\n",
    "db = duckdb.connect()\n",
    "db.execute('select count(*) from read_parquet(\"https://ewocstorage.blob.core.windows.net/collections/2021_PT_EUROCROP_POLY_110.parquet\")').fetchall()"
   ],
   "metadata": {
    "collapsed": false,
    "ExecuteTime": {
     "end_time": "2024-03-03T17:59:20.025853202Z",
     "start_time": "2024-03-03T17:59:19.720077694Z"
    }
   },
   "id": "1cd1bd4841d7a315",
   "execution_count": 2
  },
  {
   "cell_type": "code",
   "outputs": [
    {
     "name": "stdout",
     "output_type": "stream",
     "text": [
      "CPU times: user 24.8 ms, sys: 3.78 ms, total: 28.6 ms\n",
      "Wall time: 555 ms\n"
     ]
    },
    {
     "data": {
      "text/plain": "      CT  count_star()\n0   3300          5363\n1   1100           191\n2   9300            10\n3   1600           282\n4   4000             1\n..   ...           ...\n56  3550           569\n57  3430            97\n58  3440             2\n59  3110             2\n60  2160             1\n\n[61 rows x 2 columns]",
      "text/html": "<div>\n<style scoped>\n    .dataframe tbody tr th:only-of-type {\n        vertical-align: middle;\n    }\n\n    .dataframe tbody tr th {\n        vertical-align: top;\n    }\n\n    .dataframe thead th {\n        text-align: right;\n    }\n</style>\n<table border=\"1\" class=\"dataframe\">\n  <thead>\n    <tr style=\"text-align: right;\">\n      <th></th>\n      <th>CT</th>\n      <th>count_star()</th>\n    </tr>\n  </thead>\n  <tbody>\n    <tr>\n      <th>0</th>\n      <td>3300</td>\n      <td>5363</td>\n    </tr>\n    <tr>\n      <th>1</th>\n      <td>1100</td>\n      <td>191</td>\n    </tr>\n    <tr>\n      <th>2</th>\n      <td>9300</td>\n      <td>10</td>\n    </tr>\n    <tr>\n      <th>3</th>\n      <td>1600</td>\n      <td>282</td>\n    </tr>\n    <tr>\n      <th>4</th>\n      <td>4000</td>\n      <td>1</td>\n    </tr>\n    <tr>\n      <th>...</th>\n      <td>...</td>\n      <td>...</td>\n    </tr>\n    <tr>\n      <th>56</th>\n      <td>3550</td>\n      <td>569</td>\n    </tr>\n    <tr>\n      <th>57</th>\n      <td>3430</td>\n      <td>97</td>\n    </tr>\n    <tr>\n      <th>58</th>\n      <td>3440</td>\n      <td>2</td>\n    </tr>\n    <tr>\n      <th>59</th>\n      <td>3110</td>\n      <td>2</td>\n    </tr>\n    <tr>\n      <th>60</th>\n      <td>2160</td>\n      <td>1</td>\n    </tr>\n  </tbody>\n</table>\n<p>61 rows × 2 columns</p>\n</div>"
     },
     "execution_count": 22,
     "metadata": {},
     "output_type": "execute_result"
    }
   ],
   "source": [
    "%%time \n",
    "db.query('select CT,count(*) from read_parquet(\"https://ewocstorage.blob.core.windows.net/collections/2021_PT_EUROCROP_POLY_110.parquet\") GROUP BY CT').to_df()"
   ],
   "metadata": {
    "collapsed": false,
    "ExecuteTime": {
     "end_time": "2024-03-03T13:45:27.291933229Z",
     "start_time": "2024-03-03T13:45:26.896784328Z"
    }
   },
   "id": "98d8c8e5912b5c6f",
   "execution_count": 22
  },
  {
   "cell_type": "code",
   "outputs": [
    {
     "data": {
      "text/plain": "<duckdb.duckdb.DuckDBPyConnection at 0x77609c185330>"
     },
     "execution_count": 4,
     "metadata": {},
     "output_type": "execute_result"
    }
   ],
   "source": [
    "db.execute('INSTALL spatial;LOAD spatial;')"
   ],
   "metadata": {
    "collapsed": false,
    "ExecuteTime": {
     "end_time": "2024-03-03T17:59:31.164599239Z",
     "start_time": "2024-03-03T17:59:31.094515891Z"
    }
   },
   "id": "5911c73f33b6431e",
   "execution_count": 4
  },
  {
   "cell_type": "code",
   "outputs": [
    {
     "data": {
      "text/plain": "FloatProgress(value=0.0, layout=Layout(width='auto'), style=ProgressStyle(bar_color='black'))",
      "application/vnd.jupyter.widget-view+json": {
       "version_major": 2,
       "version_minor": 0,
       "model_id": "833b4e5b5dc64709818e4dbb96a9d81e"
      }
     },
     "metadata": {},
     "output_type": "display_data"
    },
    {
     "name": "stdout",
     "output_type": "stream",
     "text": [
      "CPU times: user 5.12 s, sys: 72.4 ms, total: 5.19 s\n",
      "Wall time: 5.37 s\n"
     ]
    },
    {
     "data": {
      "text/plain": "                st_centroid(st_geomfromwkb(geometry))\n0   [0, 0, 32, 0, 0, 0, 0, 0, 0, 0, 0, 0, 1, 0, 0,...\n1   [0, 0, 32, 0, 0, 0, 0, 0, 0, 0, 0, 0, 1, 0, 0,...\n2   [0, 0, 32, 0, 0, 0, 0, 0, 0, 0, 0, 0, 1, 0, 0,...\n3   [0, 0, 32, 0, 0, 0, 0, 0, 0, 0, 0, 0, 1, 0, 0,...\n4   [0, 0, 32, 0, 0, 0, 0, 0, 0, 0, 0, 0, 1, 0, 0,...\n..                                                ...\n95  [0, 0, 32, 0, 0, 0, 0, 0, 0, 0, 0, 0, 1, 0, 0,...\n96  [0, 0, 32, 0, 0, 0, 0, 0, 0, 0, 0, 0, 1, 0, 0,...\n97  [0, 0, 32, 0, 0, 0, 0, 0, 0, 0, 0, 0, 1, 0, 0,...\n98  [0, 0, 32, 0, 0, 0, 0, 0, 0, 0, 0, 0, 1, 0, 0,...\n99  [0, 0, 32, 0, 0, 0, 0, 0, 0, 0, 0, 0, 1, 0, 0,...\n\n[100 rows x 1 columns]",
      "text/html": "<div>\n<style scoped>\n    .dataframe tbody tr th:only-of-type {\n        vertical-align: middle;\n    }\n\n    .dataframe tbody tr th {\n        vertical-align: top;\n    }\n\n    .dataframe thead th {\n        text-align: right;\n    }\n</style>\n<table border=\"1\" class=\"dataframe\">\n  <thead>\n    <tr style=\"text-align: right;\">\n      <th></th>\n      <th>st_centroid(st_geomfromwkb(geometry))</th>\n    </tr>\n  </thead>\n  <tbody>\n    <tr>\n      <th>0</th>\n      <td>[0, 0, 32, 0, 0, 0, 0, 0, 0, 0, 0, 0, 1, 0, 0,...</td>\n    </tr>\n    <tr>\n      <th>1</th>\n      <td>[0, 0, 32, 0, 0, 0, 0, 0, 0, 0, 0, 0, 1, 0, 0,...</td>\n    </tr>\n    <tr>\n      <th>2</th>\n      <td>[0, 0, 32, 0, 0, 0, 0, 0, 0, 0, 0, 0, 1, 0, 0,...</td>\n    </tr>\n    <tr>\n      <th>3</th>\n      <td>[0, 0, 32, 0, 0, 0, 0, 0, 0, 0, 0, 0, 1, 0, 0,...</td>\n    </tr>\n    <tr>\n      <th>4</th>\n      <td>[0, 0, 32, 0, 0, 0, 0, 0, 0, 0, 0, 0, 1, 0, 0,...</td>\n    </tr>\n    <tr>\n      <th>...</th>\n      <td>...</td>\n    </tr>\n    <tr>\n      <th>95</th>\n      <td>[0, 0, 32, 0, 0, 0, 0, 0, 0, 0, 0, 0, 1, 0, 0,...</td>\n    </tr>\n    <tr>\n      <th>96</th>\n      <td>[0, 0, 32, 0, 0, 0, 0, 0, 0, 0, 0, 0, 1, 0, 0,...</td>\n    </tr>\n    <tr>\n      <th>97</th>\n      <td>[0, 0, 32, 0, 0, 0, 0, 0, 0, 0, 0, 0, 1, 0, 0,...</td>\n    </tr>\n    <tr>\n      <th>98</th>\n      <td>[0, 0, 32, 0, 0, 0, 0, 0, 0, 0, 0, 0, 1, 0, 0,...</td>\n    </tr>\n    <tr>\n      <th>99</th>\n      <td>[0, 0, 32, 0, 0, 0, 0, 0, 0, 0, 0, 0, 1, 0, 0,...</td>\n    </tr>\n  </tbody>\n</table>\n<p>100 rows × 1 columns</p>\n</div>"
     },
     "execution_count": 10,
     "metadata": {},
     "output_type": "execute_result"
    }
   ],
   "source": [
    "%%time\n",
    "db.query('select ST_centroid(ST_GeomFromWKB(geometry)) from read_parquet(\"https://ewocstorage.blob.core.windows.net/collections/2021_PT_EUROCROP_POLY_110.parquet\") USING SAMPLE 100 ROWS ').to_df()"
   ],
   "metadata": {
    "collapsed": false,
    "ExecuteTime": {
     "end_time": "2024-03-03T18:05:17.281166536Z",
     "start_time": "2024-03-03T18:05:12.126019758Z"
    }
   },
   "id": "38f17b0f03c25f0b",
   "execution_count": 10
  },
  {
   "cell_type": "markdown",
   "source": [
    "### GeoParquet vs OGC Features\n",
    "\n",
    "As shown above, both DuckDB and GeoPandas can efficiently handle Parquet files of 100k items stored on https. \n",
    "With parquet as interface, data scientists can write complex queries in a language they know (Pandas, SQL, ...).\n",
    "\n",
    "When looking at OGC features, it seems there are hardly any libraries available. Some basic support in GDAL seems to be the best option to connect with it.\n",
    "To benefit from server side processing power, the most comfortable option seems to write CQL filters. \n",
    "OGC Features does not support aggregation, so a 'group by' operation is not supported.\n",
    "\n",
    "Note: GeoParquet is on track to be adopted as an OGC standard, hence satisfies standardization requirements."
   ],
   "metadata": {
    "collapsed": false
   },
   "id": "d674f638dc9b2639"
  }
 ],
 "metadata": {
  "kernelspec": {
   "display_name": "Python 3",
   "language": "python",
   "name": "python3"
  },
  "language_info": {
   "codemirror_mode": {
    "name": "ipython",
    "version": 2
   },
   "file_extension": ".py",
   "mimetype": "text/x-python",
   "name": "python",
   "nbconvert_exporter": "python",
   "pygments_lexer": "ipython2",
   "version": "2.7.6"
  }
 },
 "nbformat": 4,
 "nbformat_minor": 5
}
