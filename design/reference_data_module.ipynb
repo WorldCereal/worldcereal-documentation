{
 "cells": [
  {
   "cell_type": "raw",
   "id": "bee0939f875d7d85",
   "metadata": {
    "collapsed": false
   },
   "source": [
    "---\n",
    "execute: \n",
    "  enabled: true\n",
    "  echo: false\n",
    "---"
   ]
  },
  {
   "cell_type": "markdown",
   "id": "3fe3b3c06f896dc8",
   "metadata": {
    "collapsed": false
   },
   "source": [
    "### H3 indexing\n",
    "\n",
    "While the RDM is built on top of a PostGIS database, we more and more start to use H3 for fast geospatial lookup.\n",
    "H3 is a discrete global grid system, with some nice properties for cases like ours. \n",
    "\n",
    "One example use case is creating a heatmap showing distribution of samples for specific crop types over the world.\n",
    "\n",
    "H3 indexes can also be computed on the fly from the geometry, but a lot of operations can be made faster if they are performed on 64bit integers rather than geometries.\n",
    "\n",
    "#### H3 examples\n",
    "\n",
    "This can be achieved in different technology stacks. For instance, in (postgres)[https://github.com/zachasme/h3-pg]:\n",
    "\n",
    "`SELECT h3_lat_lng_to_cell(POINT('37.3615593,-122.0553238'), 5)`\n",
    "\n",
    "or in (Python)[https://uber.github.io/h3-py/intro.html#usage]:\n",
    "\n",
    "`h3.latlng_to_cell(lat, lng, resolution)`\n",
    "\n",
    "or other options: https://h3geo.org/docs/community/bindings\n",
    "\n",
    "\n",
    "### Sample stratification in the RDM\n",
    "\n",
    "The total number of samples in the RDM is very large, but also unevenly spread geographically and in terms of crop type distribution.\n",
    "Hence the stratification strategy is an important factor that affects the quality of the model, but also the efficiency with which we can train models.\n",
    "\n",
    "Therefore, the RDM needs to be able to run a certain stratification approach to select a subset of the samples.\n",
    "It should be possible to also consider new data in the stratification.\n",
    "\n",
    "We propose the following database design:\n",
    "\n",
    "- a 1 to * relationship between samples and stratification selection, as there can be multiple algorithms, or stratification runs.\n",
    "- A 'stratification_flag' column with the id of the stratification run that selected the sample.\n",
    "- A 'stratification_timestamp' column identifies when a sample was selected. The purpose is to identify newly added samples.\n",
    "\n",
    "For the stratification algorithm itself, we would like to use a discrete global grid, and more specifically H3. In certain cases, this grid can also replace geospatial queries.\n",
    "Hence for each sample, we would like to add the H3 index at level 5.\n",
    "\n",
    "\n",
    "#### Table example\n",
    "\n",
    "An example table is shown below."
   ]
  },
  {
   "cell_type": "code",
   "execution_count": 1,
   "id": "d5984c2ae5906f28",
   "metadata": {
    "ExecuteTime": {
     "end_time": "2024-03-03T17:59:06.562588116Z",
     "start_time": "2024-03-03T17:59:06.272029322Z"
    }
   },
   "outputs": [
    {
     "data": {
      "text/html": [
       "<div>\n",
       "<style scoped>\n",
       "    .dataframe tbody tr th:only-of-type {\n",
       "        vertical-align: middle;\n",
       "    }\n",
       "\n",
       "    .dataframe tbody tr th {\n",
       "        vertical-align: top;\n",
       "    }\n",
       "\n",
       "    .dataframe thead th {\n",
       "        text-align: right;\n",
       "    }\n",
       "</style>\n",
       "<table border=\"1\" class=\"dataframe\">\n",
       "  <thead>\n",
       "    <tr style=\"text-align: right;\">\n",
       "      <th></th>\n",
       "      <th>sample_id</th>\n",
       "      <th>stratification_flag</th>\n",
       "      <th>stratification_timestamp</th>\n",
       "      <th>extraction_id</th>\n",
       "    </tr>\n",
       "  </thead>\n",
       "  <tbody>\n",
       "    <tr>\n",
       "      <th>0</th>\n",
       "      <td>my_sample</td>\n",
       "      <td>1</td>\n",
       "      <td>2024-03-01T02:00:00Z</td>\n",
       "      <td>the_id</td>\n",
       "    </tr>\n",
       "  </tbody>\n",
       "</table>\n",
       "</div>"
      ],
      "text/plain": [
       "   sample_id   stratification_flag stratification_timestamp   extraction_id\n",
       "0  my_sample                     1     2024-03-01T02:00:00Z          the_id"
      ]
     },
     "execution_count": 1,
     "metadata": {},
     "output_type": "execute_result"
    }
   ],
   "source": [
    "\n",
    "import pandas as pd\n",
    "pd.read_csv(\"sampling_table.csv\")"
   ]
  },
  {
   "cell_type": "markdown",
   "id": "4fd93f7c0bea5de6",
   "metadata": {
    "collapsed": false
   },
   "source": [
    "#### Required API calls\n",
    "based on this table, the following queries can be defined. These are cases that we would need in practice. \n",
    "\n",
    "- Retrieve point locations to extract based on: ref_id, h3 index, stratification_flag, timestamp[optional]\n",
    "- Retrieve list of unique stratification run timestamps (as enum in the schema returned by queryables?)\n",
    "- Retrieve counts per h3 cell and croptype\n",
    "- Update call to set extraction status in bulk\n",
    "\n",
    "These calls can be done through an OGC Features request, or via GeoParquet. Further investigation below is performed to figure out the best approach.\n",
    "\n",
    "##### Aggregated statistics\n",
    "\n",
    "For the generation of statistics such as counts per croptype in H3 gridcells, the OGC Features API does not seem to include support.\n",
    "Hence we would need a background task that updates these statistics either on a fixed time schedule, or triggered by new ingestions in the RDM.\n",
    "\n",
    "If this background task could immediately generate a geoparquet file, then it may also be possible to avoid requiring a more advanced setup (based on a database+webservice).\n"
   ]
  },
  {
   "cell_type": "markdown",
   "id": "56fd07d507db964c",
   "metadata": {
    "collapsed": false
   },
   "source": [
    "## Reading test from Parquet"
   ]
  },
  {
   "cell_type": "code",
   "execution_count": 2,
   "id": "bbeb442fcd6a1d38",
   "metadata": {
    "ExecuteTime": {
     "end_time": "2024-03-03T13:17:21.859070282Z",
     "start_time": "2024-03-03T13:17:14.088946794Z"
    }
   },
   "outputs": [
    {
     "name": "stdout",
     "output_type": "stream",
     "text": [
      "CPU times: user 1.09 s, sys: 274 ms, total: 1.36 s\n",
      "Wall time: 18 s\n"
     ]
    },
    {
     "data": {
      "text/html": [
       "<div>\n",
       "<style scoped>\n",
       "    .dataframe tbody tr th:only-of-type {\n",
       "        vertical-align: middle;\n",
       "    }\n",
       "\n",
       "    .dataframe tbody tr th {\n",
       "        vertical-align: top;\n",
       "    }\n",
       "\n",
       "    .dataframe thead th {\n",
       "        text-align: right;\n",
       "    }\n",
       "</style>\n",
       "<table border=\"1\" class=\"dataframe\">\n",
       "  <thead>\n",
       "    <tr style=\"text-align: right;\">\n",
       "      <th></th>\n",
       "      <th>geometry</th>\n",
       "      <th>CT</th>\n",
       "    </tr>\n",
       "  </thead>\n",
       "  <tbody>\n",
       "    <tr>\n",
       "      <th>0</th>\n",
       "      <td>MULTIPOLYGON (((-8.54796 40.56554, -8.54942 40...</td>\n",
       "      <td>1200</td>\n",
       "    </tr>\n",
       "    <tr>\n",
       "      <th>1</th>\n",
       "      <td>MULTIPOLYGON (((-8.52352 40.55686, -8.52352 40...</td>\n",
       "      <td>1700</td>\n",
       "    </tr>\n",
       "    <tr>\n",
       "      <th>2</th>\n",
       "      <td>MULTIPOLYGON (((-8.52456 40.55538, -8.52454 40...</td>\n",
       "      <td>3300</td>\n",
       "    </tr>\n",
       "    <tr>\n",
       "      <th>3</th>\n",
       "      <td>MULTIPOLYGON (((-8.52835 40.56835, -8.52837 40...</td>\n",
       "      <td>2000</td>\n",
       "    </tr>\n",
       "    <tr>\n",
       "      <th>4</th>\n",
       "      <td>MULTIPOLYGON (((-8.52781 40.57128, -8.52814 40...</td>\n",
       "      <td>0</td>\n",
       "    </tr>\n",
       "    <tr>\n",
       "      <th>...</th>\n",
       "      <td>...</td>\n",
       "      <td>...</td>\n",
       "    </tr>\n",
       "    <tr>\n",
       "      <th>99995</th>\n",
       "      <td>MULTIPOLYGON (((-6.46866 41.43669, -6.46832 41...</td>\n",
       "      <td>0</td>\n",
       "    </tr>\n",
       "    <tr>\n",
       "      <th>99996</th>\n",
       "      <td>MULTIPOLYGON (((-6.46797 41.43497, -6.46778 41...</td>\n",
       "      <td>0</td>\n",
       "    </tr>\n",
       "    <tr>\n",
       "      <th>99997</th>\n",
       "      <td>MULTIPOLYGON (((-7.45134 41.73074, -7.45134 41...</td>\n",
       "      <td>1200</td>\n",
       "    </tr>\n",
       "    <tr>\n",
       "      <th>99998</th>\n",
       "      <td>MULTIPOLYGON (((-6.47482 41.44217, -6.47480 41...</td>\n",
       "      <td>0</td>\n",
       "    </tr>\n",
       "    <tr>\n",
       "      <th>99999</th>\n",
       "      <td>MULTIPOLYGON (((-6.47503 41.44182, -6.47504 41...</td>\n",
       "      <td>9520</td>\n",
       "    </tr>\n",
       "  </tbody>\n",
       "</table>\n",
       "<p>100000 rows × 2 columns</p>\n",
       "</div>"
      ],
      "text/plain": [
       "                                                geometry    CT\n",
       "0      MULTIPOLYGON (((-8.54796 40.56554, -8.54942 40...  1200\n",
       "1      MULTIPOLYGON (((-8.52352 40.55686, -8.52352 40...  1700\n",
       "2      MULTIPOLYGON (((-8.52456 40.55538, -8.52454 40...  3300\n",
       "3      MULTIPOLYGON (((-8.52835 40.56835, -8.52837 40...  2000\n",
       "4      MULTIPOLYGON (((-8.52781 40.57128, -8.52814 40...     0\n",
       "...                                                  ...   ...\n",
       "99995  MULTIPOLYGON (((-6.46866 41.43669, -6.46832 41...     0\n",
       "99996  MULTIPOLYGON (((-6.46797 41.43497, -6.46778 41...     0\n",
       "99997  MULTIPOLYGON (((-7.45134 41.73074, -7.45134 41...  1200\n",
       "99998  MULTIPOLYGON (((-6.47482 41.44217, -6.47480 41...     0\n",
       "99999  MULTIPOLYGON (((-6.47503 41.44182, -6.47504 41...  9520\n",
       "\n",
       "[100000 rows x 2 columns]"
      ]
     },
     "execution_count": 2,
     "metadata": {},
     "output_type": "execute_result"
    }
   ],
   "source": [
    "%%time\n",
    "import geopandas as gpd\n",
    "import fsspec\n",
    "pq_path = \"https://ewocstorage.blob.core.windows.net/collections/2021_PT_EUROCROP_POLY_110.parquet\"\n",
    "with fsspec.open(pq_path) as file:\n",
    "    df = gpd.read_parquet(file,columns=[\"geometry\",\"CT\"])\n",
    "df"
   ]
  },
  {
   "cell_type": "code",
   "execution_count": 3,
   "id": "480b5d4d37988431",
   "metadata": {
    "ExecuteTime": {
     "end_time": "2024-03-03T13:19:00.603050531Z",
     "start_time": "2024-03-03T13:19:00.561887845Z"
    }
   },
   "outputs": [
    {
     "data": {
      "text/html": [
       "<div>\n",
       "<style scoped>\n",
       "    .dataframe tbody tr th:only-of-type {\n",
       "        vertical-align: middle;\n",
       "    }\n",
       "\n",
       "    .dataframe tbody tr th {\n",
       "        vertical-align: top;\n",
       "    }\n",
       "\n",
       "    .dataframe thead th {\n",
       "        text-align: right;\n",
       "    }\n",
       "</style>\n",
       "<table border=\"1\" class=\"dataframe\">\n",
       "  <thead>\n",
       "    <tr style=\"text-align: right;\">\n",
       "      <th></th>\n",
       "      <th>geometry</th>\n",
       "    </tr>\n",
       "    <tr>\n",
       "      <th>CT</th>\n",
       "      <th></th>\n",
       "    </tr>\n",
       "  </thead>\n",
       "  <tbody>\n",
       "    <tr>\n",
       "      <th>0</th>\n",
       "      <td>37673</td>\n",
       "    </tr>\n",
       "    <tr>\n",
       "      <th>1100</th>\n",
       "      <td>191</td>\n",
       "    </tr>\n",
       "    <tr>\n",
       "      <th>1200</th>\n",
       "      <td>4475</td>\n",
       "    </tr>\n",
       "    <tr>\n",
       "      <th>1300</th>\n",
       "      <td>271</td>\n",
       "    </tr>\n",
       "    <tr>\n",
       "      <th>1500</th>\n",
       "      <td>69</td>\n",
       "    </tr>\n",
       "    <tr>\n",
       "      <th>...</th>\n",
       "      <td>...</td>\n",
       "    </tr>\n",
       "    <tr>\n",
       "      <th>9300</th>\n",
       "      <td>10</td>\n",
       "    </tr>\n",
       "    <tr>\n",
       "      <th>9320</th>\n",
       "      <td>3</td>\n",
       "    </tr>\n",
       "    <tr>\n",
       "      <th>9500</th>\n",
       "      <td>8</td>\n",
       "    </tr>\n",
       "    <tr>\n",
       "      <th>9520</th>\n",
       "      <td>971</td>\n",
       "    </tr>\n",
       "    <tr>\n",
       "      <th>9920</th>\n",
       "      <td>4</td>\n",
       "    </tr>\n",
       "  </tbody>\n",
       "</table>\n",
       "<p>61 rows × 1 columns</p>\n",
       "</div>"
      ],
      "text/plain": [
       "      geometry\n",
       "CT            \n",
       "0        37673\n",
       "1100       191\n",
       "1200      4475\n",
       "1300       271\n",
       "1500        69\n",
       "...        ...\n",
       "9300        10\n",
       "9320         3\n",
       "9500         8\n",
       "9520       971\n",
       "9920         4\n",
       "\n",
       "[61 rows x 1 columns]"
      ]
     },
     "execution_count": 3,
     "metadata": {},
     "output_type": "execute_result"
    }
   ],
   "source": [
    "df.groupby(['CT']).count()"
   ]
  },
  {
   "cell_type": "code",
   "execution_count": 4,
   "id": "1cd1bd4841d7a315",
   "metadata": {
    "ExecuteTime": {
     "end_time": "2024-03-03T17:59:20.025853202Z",
     "start_time": "2024-03-03T17:59:19.720077694Z"
    }
   },
   "outputs": [
    {
     "name": "stdout",
     "output_type": "stream",
     "text": [
      "CPU times: user 274 ms, sys: 13.5 ms, total: 287 ms\n",
      "Wall time: 314 ms\n"
     ]
    },
    {
     "data": {
      "text/plain": [
       "[(100000,)]"
      ]
     },
     "execution_count": 4,
     "metadata": {},
     "output_type": "execute_result"
    }
   ],
   "source": [
    "%%time\n",
    "import duckdb\n",
    "db = duckdb.connect()\n",
    "db.execute('select count(*) from read_parquet(\"https://ewocstorage.blob.core.windows.net/collections/2021_PT_EUROCROP_POLY_110.parquet\")').fetchall()"
   ]
  },
  {
   "cell_type": "code",
   "execution_count": 5,
   "id": "98d8c8e5912b5c6f",
   "metadata": {
    "ExecuteTime": {
     "end_time": "2024-03-03T13:45:27.291933229Z",
     "start_time": "2024-03-03T13:45:26.896784328Z"
    }
   },
   "outputs": [
    {
     "name": "stdout",
     "output_type": "stream",
     "text": [
      "CPU times: user 52 ms, sys: 21.2 ms, total: 73.1 ms\n",
      "Wall time: 615 ms\n"
     ]
    },
    {
     "data": {
      "text/html": [
       "<div>\n",
       "<style scoped>\n",
       "    .dataframe tbody tr th:only-of-type {\n",
       "        vertical-align: middle;\n",
       "    }\n",
       "\n",
       "    .dataframe tbody tr th {\n",
       "        vertical-align: top;\n",
       "    }\n",
       "\n",
       "    .dataframe thead th {\n",
       "        text-align: right;\n",
       "    }\n",
       "</style>\n",
       "<table border=\"1\" class=\"dataframe\">\n",
       "  <thead>\n",
       "    <tr style=\"text-align: right;\">\n",
       "      <th></th>\n",
       "      <th>CT</th>\n",
       "      <th>count_star()</th>\n",
       "    </tr>\n",
       "  </thead>\n",
       "  <tbody>\n",
       "    <tr>\n",
       "      <th>0</th>\n",
       "      <td>3300</td>\n",
       "      <td>5363</td>\n",
       "    </tr>\n",
       "    <tr>\n",
       "      <th>1</th>\n",
       "      <td>1600</td>\n",
       "      <td>282</td>\n",
       "    </tr>\n",
       "    <tr>\n",
       "      <th>2</th>\n",
       "      <td>1100</td>\n",
       "      <td>191</td>\n",
       "    </tr>\n",
       "    <tr>\n",
       "      <th>3</th>\n",
       "      <td>9300</td>\n",
       "      <td>10</td>\n",
       "    </tr>\n",
       "    <tr>\n",
       "      <th>4</th>\n",
       "      <td>4350</td>\n",
       "      <td>1</td>\n",
       "    </tr>\n",
       "    <tr>\n",
       "      <th>...</th>\n",
       "      <td>...</td>\n",
       "      <td>...</td>\n",
       "    </tr>\n",
       "    <tr>\n",
       "      <th>56</th>\n",
       "      <td>3600</td>\n",
       "      <td>426</td>\n",
       "    </tr>\n",
       "    <tr>\n",
       "      <th>57</th>\n",
       "      <td>3630</td>\n",
       "      <td>3708</td>\n",
       "    </tr>\n",
       "    <tr>\n",
       "      <th>58</th>\n",
       "      <td>2310</td>\n",
       "      <td>18</td>\n",
       "    </tr>\n",
       "    <tr>\n",
       "      <th>59</th>\n",
       "      <td>3650</td>\n",
       "      <td>2</td>\n",
       "    </tr>\n",
       "    <tr>\n",
       "      <th>60</th>\n",
       "      <td>4330</td>\n",
       "      <td>1</td>\n",
       "    </tr>\n",
       "  </tbody>\n",
       "</table>\n",
       "<p>61 rows × 2 columns</p>\n",
       "</div>"
      ],
      "text/plain": [
       "      CT  count_star()\n",
       "0   3300          5363\n",
       "1   1600           282\n",
       "2   1100           191\n",
       "3   9300            10\n",
       "4   4350             1\n",
       "..   ...           ...\n",
       "56  3600           426\n",
       "57  3630          3708\n",
       "58  2310            18\n",
       "59  3650             2\n",
       "60  4330             1\n",
       "\n",
       "[61 rows x 2 columns]"
      ]
     },
     "execution_count": 5,
     "metadata": {},
     "output_type": "execute_result"
    }
   ],
   "source": [
    "%%time \n",
    "db.query('select CT,count(*) from read_parquet(\"https://ewocstorage.blob.core.windows.net/collections/2021_PT_EUROCROP_POLY_110.parquet\") GROUP BY CT').to_df()"
   ]
  },
  {
   "cell_type": "code",
   "execution_count": 6,
   "id": "5911c73f33b6431e",
   "metadata": {
    "ExecuteTime": {
     "end_time": "2024-03-03T17:59:31.164599239Z",
     "start_time": "2024-03-03T17:59:31.094515891Z"
    }
   },
   "outputs": [
    {
     "data": {
      "text/plain": [
       "<duckdb.duckdb.DuckDBPyConnection at 0x76be14914cb0>"
      ]
     },
     "execution_count": 6,
     "metadata": {},
     "output_type": "execute_result"
    }
   ],
   "source": [
    "db.execute('INSTALL spatial;LOAD spatial;')"
   ]
  },
  {
   "cell_type": "code",
   "execution_count": 7,
   "id": "38f17b0f03c25f0b",
   "metadata": {
    "ExecuteTime": {
     "end_time": "2024-03-03T18:05:17.281166536Z",
     "start_time": "2024-03-03T18:05:12.126019758Z"
    }
   },
   "outputs": [
    {
     "data": {
      "application/vnd.jupyter.widget-view+json": {
       "model_id": "9f2cf0fb8d55423893b37e54b3518a3e",
       "version_major": 2,
       "version_minor": 0
      },
      "text/plain": [
       "FloatProgress(value=0.0, layout=Layout(width='auto'), style=ProgressStyle(bar_color='black'))"
      ]
     },
     "metadata": {},
     "output_type": "display_data"
    },
    {
     "name": "stdout",
     "output_type": "stream",
     "text": [
      "CPU times: user 132 ms, sys: 155 ms, total: 287 ms\n",
      "Wall time: 12.7 s\n"
     ]
    },
    {
     "data": {
      "text/html": [
       "<div>\n",
       "<style scoped>\n",
       "    .dataframe tbody tr th:only-of-type {\n",
       "        vertical-align: middle;\n",
       "    }\n",
       "\n",
       "    .dataframe tbody tr th {\n",
       "        vertical-align: top;\n",
       "    }\n",
       "\n",
       "    .dataframe thead th {\n",
       "        text-align: right;\n",
       "    }\n",
       "</style>\n",
       "<table border=\"1\" class=\"dataframe\">\n",
       "  <thead>\n",
       "    <tr style=\"text-align: right;\">\n",
       "      <th></th>\n",
       "      <th>st_centroid(st_geomfromwkb(geometry))</th>\n",
       "    </tr>\n",
       "  </thead>\n",
       "  <tbody>\n",
       "    <tr>\n",
       "      <th>0</th>\n",
       "      <td>[0, 0, 32, 0, 0, 0, 0, 0, 0, 0, 0, 0, 1, 0, 0,...</td>\n",
       "    </tr>\n",
       "    <tr>\n",
       "      <th>1</th>\n",
       "      <td>[0, 0, 32, 0, 0, 0, 0, 0, 0, 0, 0, 0, 1, 0, 0,...</td>\n",
       "    </tr>\n",
       "    <tr>\n",
       "      <th>2</th>\n",
       "      <td>[0, 0, 32, 0, 0, 0, 0, 0, 0, 0, 0, 0, 1, 0, 0,...</td>\n",
       "    </tr>\n",
       "    <tr>\n",
       "      <th>3</th>\n",
       "      <td>[0, 0, 32, 0, 0, 0, 0, 0, 0, 0, 0, 0, 1, 0, 0,...</td>\n",
       "    </tr>\n",
       "    <tr>\n",
       "      <th>4</th>\n",
       "      <td>[0, 0, 32, 0, 0, 0, 0, 0, 0, 0, 0, 0, 1, 0, 0,...</td>\n",
       "    </tr>\n",
       "    <tr>\n",
       "      <th>...</th>\n",
       "      <td>...</td>\n",
       "    </tr>\n",
       "    <tr>\n",
       "      <th>95</th>\n",
       "      <td>[0, 0, 32, 0, 0, 0, 0, 0, 0, 0, 0, 0, 1, 0, 0,...</td>\n",
       "    </tr>\n",
       "    <tr>\n",
       "      <th>96</th>\n",
       "      <td>[0, 0, 32, 0, 0, 0, 0, 0, 0, 0, 0, 0, 1, 0, 0,...</td>\n",
       "    </tr>\n",
       "    <tr>\n",
       "      <th>97</th>\n",
       "      <td>[0, 0, 32, 0, 0, 0, 0, 0, 0, 0, 0, 0, 1, 0, 0,...</td>\n",
       "    </tr>\n",
       "    <tr>\n",
       "      <th>98</th>\n",
       "      <td>[0, 0, 32, 0, 0, 0, 0, 0, 0, 0, 0, 0, 1, 0, 0,...</td>\n",
       "    </tr>\n",
       "    <tr>\n",
       "      <th>99</th>\n",
       "      <td>[0, 0, 32, 0, 0, 0, 0, 0, 0, 0, 0, 0, 1, 0, 0,...</td>\n",
       "    </tr>\n",
       "  </tbody>\n",
       "</table>\n",
       "<p>100 rows × 1 columns</p>\n",
       "</div>"
      ],
      "text/plain": [
       "                st_centroid(st_geomfromwkb(geometry))\n",
       "0   [0, 0, 32, 0, 0, 0, 0, 0, 0, 0, 0, 0, 1, 0, 0,...\n",
       "1   [0, 0, 32, 0, 0, 0, 0, 0, 0, 0, 0, 0, 1, 0, 0,...\n",
       "2   [0, 0, 32, 0, 0, 0, 0, 0, 0, 0, 0, 0, 1, 0, 0,...\n",
       "3   [0, 0, 32, 0, 0, 0, 0, 0, 0, 0, 0, 0, 1, 0, 0,...\n",
       "4   [0, 0, 32, 0, 0, 0, 0, 0, 0, 0, 0, 0, 1, 0, 0,...\n",
       "..                                                ...\n",
       "95  [0, 0, 32, 0, 0, 0, 0, 0, 0, 0, 0, 0, 1, 0, 0,...\n",
       "96  [0, 0, 32, 0, 0, 0, 0, 0, 0, 0, 0, 0, 1, 0, 0,...\n",
       "97  [0, 0, 32, 0, 0, 0, 0, 0, 0, 0, 0, 0, 1, 0, 0,...\n",
       "98  [0, 0, 32, 0, 0, 0, 0, 0, 0, 0, 0, 0, 1, 0, 0,...\n",
       "99  [0, 0, 32, 0, 0, 0, 0, 0, 0, 0, 0, 0, 1, 0, 0,...\n",
       "\n",
       "[100 rows x 1 columns]"
      ]
     },
     "execution_count": 7,
     "metadata": {},
     "output_type": "execute_result"
    }
   ],
   "source": [
    "%%time\n",
    "db.query('select ST_centroid(ST_GeomFromWKB(geometry)) from read_parquet(\"https://ewocstorage.blob.core.windows.net/collections/2021_PT_EUROCROP_POLY_110.parquet\") USING SAMPLE 100 ROWS ').to_df()"
   ]
  },
  {
   "cell_type": "markdown",
   "id": "d674f638dc9b2639",
   "metadata": {
    "collapsed": false
   },
   "source": [
    "### GeoParquet vs OGC Features\n",
    "\n",
    "As shown above, both DuckDB and GeoPandas can efficiently handle Parquet files of 100k items stored on https. \n",
    "With parquet as interface, data scientists can write complex queries in a language they know (Pandas, SQL, ...).\n",
    "\n",
    "When looking at OGC features, it seems there are hardly any libraries available. Some basic support in GDAL seems to be the best option to connect with it.\n",
    "To benefit from server side processing power, the most comfortable option seems to write CQL filters. \n",
    "OGC Features does not support aggregation, so a 'group by' operation is not supported.\n",
    "\n",
    "Note: GeoParquet is on track to be adopted as an OGC standard, hence satisfies standardization requirements."
   ]
  }
 ],
 "metadata": {
  "kernelspec": {
   "display_name": "Python 3",
   "language": "python",
   "name": "python3"
  },
  "language_info": {
   "codemirror_mode": {
    "name": "ipython",
    "version": 3
   },
   "file_extension": ".py",
   "mimetype": "text/x-python",
   "name": "python",
   "nbconvert_exporter": "python",
   "pygments_lexer": "ipython3",
   "version": "3.11.7"
  },
  "widgets": {
   "application/vnd.jupyter.widget-state+json": {
    "state": {
     "9f2cf0fb8d55423893b37e54b3518a3e": {
      "model_module": "@jupyter-widgets/controls",
      "model_module_version": "2.0.0",
      "model_name": "FloatProgressModel",
      "state": {
       "_dom_classes": [],
       "_model_module": "@jupyter-widgets/controls",
       "_model_module_version": "2.0.0",
       "_model_name": "FloatProgressModel",
       "_view_count": null,
       "_view_module": "@jupyter-widgets/controls",
       "_view_module_version": "2.0.0",
       "_view_name": "ProgressView",
       "bar_style": "",
       "description": "",
       "description_allow_html": false,
       "layout": "IPY_MODEL_d379c55b6e144123ae0132032a4f1457",
       "max": 100.0,
       "min": 0.0,
       "orientation": "horizontal",
       "style": "IPY_MODEL_ee6685bb36a6452cb52aaf627955367d",
       "tabbable": null,
       "tooltip": null,
       "value": 100.0
      }
     },
     "d379c55b6e144123ae0132032a4f1457": {
      "model_module": "@jupyter-widgets/base",
      "model_module_version": "2.0.0",
      "model_name": "LayoutModel",
      "state": {
       "_model_module": "@jupyter-widgets/base",
       "_model_module_version": "2.0.0",
       "_model_name": "LayoutModel",
       "_view_count": null,
       "_view_module": "@jupyter-widgets/base",
       "_view_module_version": "2.0.0",
       "_view_name": "LayoutView",
       "align_content": null,
       "align_items": null,
       "align_self": null,
       "border_bottom": null,
       "border_left": null,
       "border_right": null,
       "border_top": null,
       "bottom": null,
       "display": null,
       "flex": null,
       "flex_flow": null,
       "grid_area": null,
       "grid_auto_columns": null,
       "grid_auto_flow": null,
       "grid_auto_rows": null,
       "grid_column": null,
       "grid_gap": null,
       "grid_row": null,
       "grid_template_areas": null,
       "grid_template_columns": null,
       "grid_template_rows": null,
       "height": null,
       "justify_content": null,
       "justify_items": null,
       "left": null,
       "margin": null,
       "max_height": null,
       "max_width": null,
       "min_height": null,
       "min_width": null,
       "object_fit": null,
       "object_position": null,
       "order": null,
       "overflow": null,
       "padding": null,
       "right": null,
       "top": null,
       "visibility": null,
       "width": "auto"
      }
     },
     "ee6685bb36a6452cb52aaf627955367d": {
      "model_module": "@jupyter-widgets/controls",
      "model_module_version": "2.0.0",
      "model_name": "ProgressStyleModel",
      "state": {
       "_model_module": "@jupyter-widgets/controls",
       "_model_module_version": "2.0.0",
       "_model_name": "ProgressStyleModel",
       "_view_count": null,
       "_view_module": "@jupyter-widgets/base",
       "_view_module_version": "2.0.0",
       "_view_name": "StyleView",
       "bar_color": "black",
       "description_width": ""
      }
     }
    },
    "version_major": 2,
    "version_minor": 0
   }
  }
 },
 "nbformat": 4,
 "nbformat_minor": 5
}
