{
 "cells": [
  {
   "cell_type": "markdown",
   "source": [
    "## RDM - sample stratification\n",
    "\n",
    "\n",
    "sample flag => string or int/byte\n",
    "sample timestamp\n",
    "h3 index \n",
    "also add link/identifier of extracted data? (In STAC catalog.)\n",
    "\n",
    "## RDM: get aggregated info\n",
    "aggregated table containing counts per cell\n",
    "extract geojson of h3 cells with counts per croptype\n",
    "\n",
    "\n",
    "\n",
    "\n",
    "1. Get id of extraction to run\n",
    "2. For extraction id get point locations\n",
    "3. Use UDF to convert points into 64x64 patches\n",
    "\n",
    "API calls\n",
    "\n",
    "Retrieve point locations to extract based on: ref_id, h3 index, sample_scheme, timestamp[optional]\n",
    "Retrieve list of unique sampling run timestamps\n",
    "Retrieve counts per h3 cell and croptype\n",
    "Update call to set extraction status\n",
    "\n",
    "Automatically:\n",
    "Update extractions when new data comes in -> vito can prototype, IIASA implements in operations"
   ],
   "metadata": {
    "collapsed": false
   },
   "id": "3fe3b3c06f896dc8"
  }
 ],
 "metadata": {
  "kernelspec": {
   "display_name": "Python 3",
   "language": "python",
   "name": "python3"
  },
  "language_info": {
   "codemirror_mode": {
    "name": "ipython",
    "version": 2
   },
   "file_extension": ".py",
   "mimetype": "text/x-python",
   "name": "python",
   "nbconvert_exporter": "python",
   "pygments_lexer": "ipython2",
   "version": "2.7.6"
  }
 },
 "nbformat": 4,
 "nbformat_minor": 5
}
